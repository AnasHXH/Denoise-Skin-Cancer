{
 "cells": [
  {
   "cell_type": "markdown",
   "id": "35e3f802",
   "metadata": {},
   "source": [
    "# Prepare the dataset into three folders"
   ]
  },
  {
   "cell_type": "code",
   "execution_count": null,
   "id": "821432a1",
   "metadata": {
    "vscode": {
     "languageId": "plaintext"
    }
   },
   "outputs": [],
   "source": [
    "!python Denoise_skin_cancer/data/prepare_data.py \\\n",
    "  --path Input_path_images \\\n",
    "    --out Output_path_images --size 16,128"
   ]
  },
  {
   "cell_type": "markdown",
   "id": "e9dc5079",
   "metadata": {},
   "source": [
    "# Evaluation of model"
   ]
  },
  {
   "cell_type": "code",
   "execution_count": null,
   "id": "a804ea45",
   "metadata": {
    "vscode": {
     "languageId": "plaintext"
    }
   },
   "outputs": [],
   "source": [
    "!python Denoise_skin_cancer\\sr.py\\\n",
    "-p train -c Denoise_skin_cancer\\config\\val.json\n"
   ]
  }
 ],
 "metadata": {
  "language_info": {
   "name": "python"
  }
 },
 "nbformat": 4,
 "nbformat_minor": 5
}
